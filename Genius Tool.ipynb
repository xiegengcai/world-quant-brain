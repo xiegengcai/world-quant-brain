{
 "cells": [
  {
   "cell_type": "markdown",
   "id": "b7769ce7",
   "metadata": {},
   "source": [
    "### <b>一. Genius项目简介</b>\n",
    "##### Genius本质上是给于顾问指引正确的因子挖掘方向：\n",
    "##### 1. Alpha Number: 大量的因子池是构建稳健投资组合的基础\n",
    "##### 2. Diversity：Pyramid / Operators Used / Datafields Used\n",
    "##### 3. Simplicity: Operators per Alpha / Datafields per Alpha\n",
    "##### 4. Robustness: Combined Alpha Performance / Combined Selected Alpha Performance\n",
    "##### 5. Community Activity: 社区贡献"
   ]
  },
  {
   "cell_type": "markdown",
   "id": "c099d7e3c32a7c3",
   "metadata": {},
   "source": [
    "### <b>二. 环境准备</b>\n",
    "##### 任何Chromium内核的浏览器，如：Chrome, Edge, Opera等。\n",
    "##### <b>源代码来自KZ79256</b>"
   ]
  },
  {
   "cell_type": "markdown",
   "id": "a85e5f0d18477fa4",
   "metadata": {},
   "source": [
    "### <b>三. 获取WorldQuant Scope插件\n",
    "\n",
    "##### 方法1. Clone到本地\n",
    "##### `git clone https://github.com/zhangkaihua88/WebDataScope.git`\n",
    "\n",
    "##### 方法2. 手动下载\n",
    "##### 进入此url选择最新版本下载并解压: https://github.com/zhangkaihua88/WebDataScope/releases\n"
   ]
  },
  {
   "cell_type": "markdown",
   "id": "24af3c0ae58760a5",
   "metadata": {},
   "source": [
    "### <b>四. 安装WorldQuant Scope插件\n",
    "\n",
    "#### 安装步骤：\n",
    "##### 1. 进入设置\n",
    "##### 2. 扩展程序\n",
    "##### 3. 管理扩展程序\n",
    "##### 4. 打开开发者模式\n",
    "##### 5. 点击加载已解压的扩展程序\n",
    "##### 6. 找到刚刚解压的文件夹\n",
    "##### 7. 确定\n"
   ]
  },
  {
   "cell_type": "markdown",
   "id": "fa54185e91afc1eb",
   "metadata": {},
   "source": [
    "### <b>五. 使用WorldQuant Scope插件</b>\n",
    "##### <b>1. Genius页面新增功能\n",
    "![](https://pic1.imgdb.cn/item/682c81b858cb8da5c8ffa160.jpg)\n",
    "##### <b>(1). 运算符分析\n",
    "##### 点击运算符分析，待分析完成后拉到页面最下端可以看到运算符的使用情况，思考如何在未来的回测中增加运算符的多样性。\n",
    "![](https://pic1.imgdb.cn/item/682da30c58cb8da5c8027469.jpg)\n",
    "##### <b>(2) 排名分析\n",
    "##### 点击排名分析，待分析完成后在当前页面会增加一栏Genius Rank Analysis, 显示顾问的预估级别以及Tie Breaker的排名情况，可以针对性的提升排名较低的Tie Breaker.\n",
    "![](https://pic1.imgdb.cn/item/682da30c58cb8da5c802746a.jpg)\n",
    "###### *注: 运算符分析和排名分析不能同时执行，如果运行完一个想要执行另外一个需要刷新页面*.\n",
    "##### <b>2. 论坛点赞功能\n",
    "##### (1). 打开隐藏功能\n",
    "![](https://pic1.imgdb.cn/item/682c83f458cb8da5c8ffa214.jpg)\n",
    "##### (2). 进入论坛\n",
    "##### 可以选择点赞该条帖子, 点赞该用户和批量点赞用户, 批量点赞用户需要输入一个键为User ID, 键值为profile id的字典\n",
    "![](https://pic1.imgdb.cn/item/682c85a958cb8da5c8ffa2bb.jpg)"
   ]
  }
 ],
 "metadata": {
  "kernelspec": {
   "display_name": "Quant",
   "language": "python",
   "name": "python3"
  },
  "language_info": {
   "codemirror_mode": {
    "name": "ipython",
    "version": 2
   },
   "file_extension": ".py",
   "mimetype": "text/x-python",
   "name": "python",
   "nbconvert_exporter": "python",
   "pygments_lexer": "ipython2",
   "version": "3.13.2"
  }
 },
 "nbformat": 4,
 "nbformat_minor": 5
}
